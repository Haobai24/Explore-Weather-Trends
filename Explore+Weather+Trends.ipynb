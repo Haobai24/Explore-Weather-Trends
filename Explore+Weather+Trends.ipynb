{
 "cells": [
  {
   "cell_type": "markdown",
   "metadata": {},
   "source": [
    "# **<font color='Midnightblue'>Project: Explore Weather Trends:</font>**\n",
    "\n",
    "## <font color='SteelBlue'>Description:</font>\n",
    "    Analyze and compare local and global temperature data.\n",
    "\n",
    "## <font color='SteelBlue'>Approach:</font>\n",
    "    \n",
    "- Extract world and local temperatuture data from database with SQL querries. Export to CSV.\n",
    ">Two columns from different table cannot show up in joined table if they have the same name. Therefore, wrtie SQL queey to change column names.\n",
    " 1. ALTER TABLE \"city_data\" <br>\n",
    "    RENAME COLUMN \"avg_temp\" TO \"City_temp\"<br>\n",
    " 2. ALTER TABLE \"global_data\" <br>\n",
    "    RENAME COLUMN \"avg_temp\" TO \"Global_temp\"<br>   \n",
    "\n",
    "\n",
    ">Now join city_data and global_data tables<br>\n",
    " 3. select *<br>\n",
    "from city_data<br>\n",
    "Join global_data<br>\n",
    "on city_data.year = global_data.year<br>\n",
    "Where city = 'San Diego'<br>\n",
    "\n",
    ">Then export the file and save as result.csv\n",
    "\n",
    "<br><br>\n",
    "\n",
    "\n",
    "- Use Python libries to create line chart by ploting the moving average to avoid fluctuation.\n",
    ">Pleas see the following for Calculate the Moving Average and plots for San Diego vs Global average temperatures. <br>\n",
    "\n",
    "\n",
    " \n",
    "\n"
   ]
  },
  {
   "cell_type": "code",
   "execution_count": 1,
   "metadata": {
    "collapsed": true
   },
   "outputs": [],
   "source": [
    "# Import libraries for loading csv file and plotting.\n",
    "import pandas as pd\n",
    "from pandas import Series,DataFrame\n",
    "\n",
    "\n",
    "import numpy as np\n",
    "import matplotlib.pyplot as plt\n",
    "%matplotlib inline\n"
   ]
  },
  {
   "cell_type": "code",
   "execution_count": 2,
   "metadata": {
    "scrolled": true
   },
   "outputs": [
    {
     "data": {
      "text/html": [
       "<div>\n",
       "<style>\n",
       "    .dataframe thead tr:only-child th {\n",
       "        text-align: right;\n",
       "    }\n",
       "\n",
       "    .dataframe thead th {\n",
       "        text-align: left;\n",
       "    }\n",
       "\n",
       "    .dataframe tbody tr th {\n",
       "        vertical-align: top;\n",
       "    }\n",
       "</style>\n",
       "<table border=\"1\" class=\"dataframe\">\n",
       "  <thead>\n",
       "    <tr style=\"text-align: right;\">\n",
       "      <th></th>\n",
       "      <th>year</th>\n",
       "      <th>city</th>\n",
       "      <th>country</th>\n",
       "      <th>City_temp</th>\n",
       "      <th>year.1</th>\n",
       "      <th>Global_temp</th>\n",
       "    </tr>\n",
       "  </thead>\n",
       "  <tbody>\n",
       "    <tr>\n",
       "      <th>0</th>\n",
       "      <td>1849</td>\n",
       "      <td>San Diego</td>\n",
       "      <td>United States</td>\n",
       "      <td>16.03</td>\n",
       "      <td>1849</td>\n",
       "      <td>7.98</td>\n",
       "    </tr>\n",
       "    <tr>\n",
       "      <th>1</th>\n",
       "      <td>1850</td>\n",
       "      <td>San Diego</td>\n",
       "      <td>United States</td>\n",
       "      <td>15.55</td>\n",
       "      <td>1850</td>\n",
       "      <td>7.90</td>\n",
       "    </tr>\n",
       "    <tr>\n",
       "      <th>2</th>\n",
       "      <td>1851</td>\n",
       "      <td>San Diego</td>\n",
       "      <td>United States</td>\n",
       "      <td>15.66</td>\n",
       "      <td>1851</td>\n",
       "      <td>8.18</td>\n",
       "    </tr>\n",
       "    <tr>\n",
       "      <th>3</th>\n",
       "      <td>1852</td>\n",
       "      <td>San Diego</td>\n",
       "      <td>United States</td>\n",
       "      <td>16.06</td>\n",
       "      <td>1852</td>\n",
       "      <td>8.10</td>\n",
       "    </tr>\n",
       "    <tr>\n",
       "      <th>4</th>\n",
       "      <td>1853</td>\n",
       "      <td>San Diego</td>\n",
       "      <td>United States</td>\n",
       "      <td>16.69</td>\n",
       "      <td>1853</td>\n",
       "      <td>8.04</td>\n",
       "    </tr>\n",
       "  </tbody>\n",
       "</table>\n",
       "</div>"
      ],
      "text/plain": [
       "   year       city        country  City_temp  year.1  Global_temp\n",
       "0  1849  San Diego  United States      16.03    1849         7.98\n",
       "1  1850  San Diego  United States      15.55    1850         7.90\n",
       "2  1851  San Diego  United States      15.66    1851         8.18\n",
       "3  1852  San Diego  United States      16.06    1852         8.10\n",
       "4  1853  San Diego  United States      16.69    1853         8.04"
      ]
     },
     "execution_count": 2,
     "metadata": {},
     "output_type": "execute_result"
    }
   ],
   "source": [
    "#load our file and preview the first 5 rows\n",
    "temp_data = pd.read_csv('temp_result.csv')\n",
    "temp_data.head()"
   ]
  },
  {
   "cell_type": "code",
   "execution_count": 3,
   "metadata": {
    "collapsed": true
   },
   "outputs": [],
   "source": [
    "#drop duplicated column\n",
    "temp_data=temp_data.drop('year.1', axis=1)\n",
    "\n"
   ]
  },
  {
   "cell_type": "code",
   "execution_count": 4,
   "metadata": {
    "collapsed": true
   },
   "outputs": [],
   "source": [
    "#Write a function for calculating moving avg\n",
    "def moving_avg(window_yrs, temp_data):\n",
    "    temp_data_new = temp_data.rolling(window = window_yrs, on = \"year\").mean().dropna()\n",
    "    return temp_data_new"
   ]
  },
  {
   "cell_type": "code",
   "execution_count": 5,
   "metadata": {
    "collapsed": true
   },
   "outputs": [],
   "source": [
    "#Decided 30 for the rolling window\n",
    "rollingWindow = 30\n",
    "temp_data_movingAverage = moving_avg(rollingWindow, temp_data)"
   ]
  },
  {
   "cell_type": "code",
   "execution_count": 6,
   "metadata": {
    "scrolled": true
   },
   "outputs": [
    {
     "data": {
      "text/html": [
       "<div>\n",
       "<style>\n",
       "    .dataframe thead tr:only-child th {\n",
       "        text-align: right;\n",
       "    }\n",
       "\n",
       "    .dataframe thead th {\n",
       "        text-align: left;\n",
       "    }\n",
       "\n",
       "    .dataframe tbody tr th {\n",
       "        vertical-align: top;\n",
       "    }\n",
       "</style>\n",
       "<table border=\"1\" class=\"dataframe\">\n",
       "  <thead>\n",
       "    <tr style=\"text-align: right;\">\n",
       "      <th></th>\n",
       "      <th>year</th>\n",
       "      <th>city</th>\n",
       "      <th>country</th>\n",
       "      <th>City_temp</th>\n",
       "      <th>Global_temp</th>\n",
       "    </tr>\n",
       "  </thead>\n",
       "  <tbody>\n",
       "    <tr>\n",
       "      <th>29</th>\n",
       "      <td>1878</td>\n",
       "      <td>San Diego</td>\n",
       "      <td>United States</td>\n",
       "      <td>16.136000</td>\n",
       "      <td>8.142667</td>\n",
       "    </tr>\n",
       "    <tr>\n",
       "      <th>30</th>\n",
       "      <td>1879</td>\n",
       "      <td>San Diego</td>\n",
       "      <td>United States</td>\n",
       "      <td>16.128667</td>\n",
       "      <td>8.149000</td>\n",
       "    </tr>\n",
       "    <tr>\n",
       "      <th>31</th>\n",
       "      <td>1880</td>\n",
       "      <td>San Diego</td>\n",
       "      <td>United States</td>\n",
       "      <td>16.099000</td>\n",
       "      <td>8.156333</td>\n",
       "    </tr>\n",
       "    <tr>\n",
       "      <th>32</th>\n",
       "      <td>1881</td>\n",
       "      <td>San Diego</td>\n",
       "      <td>United States</td>\n",
       "      <td>16.102667</td>\n",
       "      <td>8.159333</td>\n",
       "    </tr>\n",
       "    <tr>\n",
       "      <th>33</th>\n",
       "      <td>1882</td>\n",
       "      <td>San Diego</td>\n",
       "      <td>United States</td>\n",
       "      <td>16.072667</td>\n",
       "      <td>8.160333</td>\n",
       "    </tr>\n",
       "  </tbody>\n",
       "</table>\n",
       "</div>"
      ],
      "text/plain": [
       "    year       city        country  City_temp  Global_temp\n",
       "29  1878  San Diego  United States  16.136000     8.142667\n",
       "30  1879  San Diego  United States  16.128667     8.149000\n",
       "31  1880  San Diego  United States  16.099000     8.156333\n",
       "32  1881  San Diego  United States  16.102667     8.159333\n",
       "33  1882  San Diego  United States  16.072667     8.160333"
      ]
     },
     "execution_count": 6,
     "metadata": {},
     "output_type": "execute_result"
    }
   ],
   "source": [
    "#preview the new data replaced with moving_avg function\n",
    "temp_data_movingAverage.head()"
   ]
  },
  {
   "cell_type": "code",
   "execution_count": 10,
   "metadata": {},
   "outputs": [
    {
     "data": {
      "text/html": [
       "<div>\n",
       "<style>\n",
       "    .dataframe thead tr:only-child th {\n",
       "        text-align: right;\n",
       "    }\n",
       "\n",
       "    .dataframe thead th {\n",
       "        text-align: left;\n",
       "    }\n",
       "\n",
       "    .dataframe tbody tr th {\n",
       "        vertical-align: top;\n",
       "    }\n",
       "</style>\n",
       "<table border=\"1\" class=\"dataframe\">\n",
       "  <thead>\n",
       "    <tr style=\"text-align: right;\">\n",
       "      <th></th>\n",
       "      <th>year</th>\n",
       "      <th>city</th>\n",
       "      <th>country</th>\n",
       "      <th>City_temp</th>\n",
       "      <th>Global_temp</th>\n",
       "    </tr>\n",
       "  </thead>\n",
       "  <tbody>\n",
       "    <tr>\n",
       "      <th>0</th>\n",
       "      <td>1849</td>\n",
       "      <td>San Diego</td>\n",
       "      <td>United States</td>\n",
       "      <td>16.03</td>\n",
       "      <td>7.98</td>\n",
       "    </tr>\n",
       "    <tr>\n",
       "      <th>1</th>\n",
       "      <td>1850</td>\n",
       "      <td>San Diego</td>\n",
       "      <td>United States</td>\n",
       "      <td>15.55</td>\n",
       "      <td>7.90</td>\n",
       "    </tr>\n",
       "    <tr>\n",
       "      <th>2</th>\n",
       "      <td>1851</td>\n",
       "      <td>San Diego</td>\n",
       "      <td>United States</td>\n",
       "      <td>15.66</td>\n",
       "      <td>8.18</td>\n",
       "    </tr>\n",
       "    <tr>\n",
       "      <th>3</th>\n",
       "      <td>1852</td>\n",
       "      <td>San Diego</td>\n",
       "      <td>United States</td>\n",
       "      <td>16.06</td>\n",
       "      <td>8.10</td>\n",
       "    </tr>\n",
       "    <tr>\n",
       "      <th>4</th>\n",
       "      <td>1853</td>\n",
       "      <td>San Diego</td>\n",
       "      <td>United States</td>\n",
       "      <td>16.69</td>\n",
       "      <td>8.04</td>\n",
       "    </tr>\n",
       "  </tbody>\n",
       "</table>\n",
       "</div>"
      ],
      "text/plain": [
       "   year       city        country  City_temp  Global_temp\n",
       "0  1849  San Diego  United States      16.03         7.98\n",
       "1  1850  San Diego  United States      15.55         7.90\n",
       "2  1851  San Diego  United States      15.66         8.18\n",
       "3  1852  San Diego  United States      16.06         8.10\n",
       "4  1853  San Diego  United States      16.69         8.04"
      ]
     },
     "execution_count": 10,
     "metadata": {},
     "output_type": "execute_result"
    }
   ],
   "source": [
    "temp_data.head()"
   ]
  },
  {
   "cell_type": "code",
   "execution_count": 161,
   "metadata": {},
   "outputs": [
    {
     "data": {
      "image/png": "[encoded data removed]",
      "text/plain": [
       "<matplotlib.figure.Figure at 0x1a2024cc88>"
      ]
     },
     "metadata": {},
     "output_type": "display_data"
    }
   ],
   "source": [
    "#Now compare the new temp data for Diego with Global \n",
    "plt.plot(temp_data_movingAverage['year'], temp_data_movingAverage['City_temp'], label='San Diego')\n",
    "plt.plot(temp_data_movingAverage['year'], temp_data_movingAverage['Global_temp'], label='Global')\n",
    "plt.legend()\n",
    "plt.xlabel('Year')\n",
    "plt.ylabel('Temperature (°C)')\n",
    "plt.title('San Diego and Global Temperature Comparasion ({} year moving avg)'.format(rollingWindow))\n",
    "plt.show()"
   ]
  },
  {
   "cell_type": "markdown",
   "metadata": {},
   "source": [
    "\n",
    "## <font color='SteelBlue'>Observations</font>\n",
    " 1. Is local temperature cooler or hotter than global temperature.<br>\n",
    "There is a big difference between the global and San Diego average temperatures. From the plot, Diego seems to average about 8°C hotter than global<br><br>\n",
    " 2. Has the difference been consistent over time?<br>\n",
    "Yes. San Diego temperature remain about 8°C higher than global temperature beginning of year 1849 through out the latest year.<br><br>\n",
    " 3. Compare change over time in local and global temperature.<br>\n",
    "Both temperature are increasing throughout the years except San Diego temperatures were dropping initially. Both temperatures increased about the same at around year ~1920 and ~1975 and has similar tends after year ~1920 <br><br>\n",
    " 4. Observe overal trends and predict its direction.<br>\n",
    "Both San Diego and Global temperatures seems continue to increase in future years. By looking at the plot, both temperature has been rising more significantly to year 2000 and beyond. Therefore, it is highly suggested that actions need to be taken to be done. <br><br>\n",
    "\n",
    "\n",
    "\n",
    "## <font color='255,127,80'>Source:</font>\n",
    "1.SQL comments aid\n",
    "- https://www.khanacademy.org/computing/computer-programming/sql/relational-queries-in-sql/pt/joining-related-tables\n",
    "\n",
    "2.Calculatin the Moving Average\n",
    "- https://www.learndatasci.com/tutorials/python-finance-part-3-moving-average-trading-strategy/\n",
    "\n",
    "3.Line plot\n",
    "- https://matplotlib.org/tutorials/introductory/pyplot.html"
   ]
  }
 ],
 "metadata": {
  "kernelspec": {
   "display_name": "Python 3",
   "language": "python",
   "name": "python3"
  },
  "language_info": {
   "codemirror_mode": {
    "name": "ipython",
    "version": 3
   },
   "file_extension": ".py",
   "mimetype": "text/x-python",
   "name": "python",
   "nbconvert_exporter": "python",
   "pygments_lexer": "ipython3",
   "version": "3.6.3"
  }
 },
 "nbformat": 4,
 "nbformat_minor": 2
}
